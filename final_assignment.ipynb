{
 "cells": [
  {
   "cell_type": "code",
   "execution_count": null,
   "metadata": {},
   "outputs": [],
   "source": [
    "\n",
    "# 📘 Final Assignment - spaCy NER Tutorial\n",
    "\n",
    "# 🧠 Instructions:\n",
    "# - Use this notebook to run the final assignment \"spaCy NER Tutorial.\"\n",
    "# - Follow the template below or modify as needed.\n",
    "# - Be sure to read through the explanations in README.md file. \n",
    "\n",
    "# 1. Import Dependencies\n",
    "import spacy\n",
    "from spacy import displacy\n",
    "\n",
    "# 2. Load spaCy Model (this is a pre-trained spaCy Model)\n",
    "nlp = spacy.load(\"en_core_web_sm\")  # You can change the model if needed\n",
    "\n",
    "# 3. Sample Text in quotes below, feel free to change or modify to see the changes in the output below\n",
    "doc = nlp(\"Apple is looking at buying a U.K. startup for $1 billion. Elon Musk founded SpaceX in 2002.\")\n",
    "\n",
    "# 4. Print Named Entities are the recognition results\n",
    "for ent in doc.ents:\n",
    "    print(f\"{ent.text:25} -> {ent.label_} ({spacy.explain(ent.label_)})\")\n",
    "\n",
    "# 5. Visualize the Named Entities\n",
    "displacy.render(doc, style=\"ent\", jupyter=True)\n",
    "\n",
    "# 🛠️ 6. Customize NER: Add New Entity Labels\n",
    "# This part would typically involve training, but here’s how you can add patterns for specific matches\n",
    "from spacy.pipeline import EntityRuler\n",
    "\n",
    "ruler = nlp.add_pipe(\"entity_ruler\", before=\"ner\")\n",
    "ruler.add_patterns([\n",
    "    {\"label\": \"FOUNDER\", \"pattern\": \"Elon Musk\"},\n",
    "    {\"label\": \"COMPANY\", \"pattern\": \"SpaceX\"},\n",
    "])\n",
    "\n",
    "custom_doc = nlp(\"Elon Musk is the founder of SpaceX and Tesla.\")\n",
    "displacy.render(custom_doc, style=\"ent\", jupyter=True)\n",
    "\n",
    "# 💡 7. Practical Use Case: Extracting Company Names\n",
    "example_text = \"Google, Microsoft, and OpenAI are leading companies in AI research.\"\n",
    "doc = nlp(example_text)\n",
    "\n",
    "companies = [ent.text for ent in doc.ents if ent.label_ == \"ORG\"]\n",
    "print(\"Extracted Companies:\", companies)\n",
    "\n",
    "# 📘 8. Conclusion\n",
    "# spaCy makes it easy to get started with NER, and you can extend it with rule-based or statistical models.\n",
    "# For production-grade customization, consider training spaCy models with your own labeled data.\n"
   ]
  }
 ],
 "metadata": {
  "language_info": {
   "name": "python"
  }
 },
 "nbformat": 4,
 "nbformat_minor": 2
}
